{
 "cells": [
  {
   "cell_type": "markdown",
   "metadata": {
    "slideshow": {
     "slide_type": "slide"
    }
   },
   "source": [
    "# Introduction to Python and Natural Language Technologies\n",
    "\n",
    "## Lecture 01 - Introduction\n",
    "\n",
    "February 7, 2018"
   ]
  },
  {
   "cell_type": "markdown",
   "metadata": {
    "slideshow": {
     "slide_type": "slide"
    }
   },
   "source": [
    "### 1.1 [About this course](#1.1)\n",
    "\n",
    "### 1.2 [Requirements, course material](#1.2)\n",
    "\n",
    "### 1.3 [What is Natural Language Processing?](#1.3)"
   ]
  },
  {
   "cell_type": "markdown",
   "metadata": {
    "slideshow": {
     "slide_type": "slide"
    }
   },
   "source": [
    "# 1.1 About this course\n",
    "<a id='1.1'></a>"
   ]
  },
  {
   "cell_type": "markdown",
   "metadata": {
    "slideshow": {
     "slide_type": "fragment"
    }
   },
   "source": [
    "- Lecture: Wednesday, 12.15-14.00, Rm QB.F15"
   ]
  },
  {
   "cell_type": "markdown",
   "metadata": {
    "slideshow": {
     "slide_type": "fragment"
    }
   },
   "source": [
    "- Lab: Friday, 12.15-14.00 and 14.15-16.00, QB.237"
   ]
  },
  {
   "cell_type": "markdown",
   "metadata": {
    "slideshow": {
     "slide_type": "fragment"
    }
   },
   "source": [
    "- Weeks 1-6: \"Advanced Introduction\" to Python"
   ]
  },
  {
   "cell_type": "markdown",
   "metadata": {
    "slideshow": {
     "slide_type": "fragment"
    }
   },
   "source": [
    "- Weeks 7-14: Introduction to Natural Language Processing (NLP)"
   ]
  },
  {
   "cell_type": "markdown",
   "metadata": {
    "slideshow": {
     "slide_type": "fragment"
    }
   },
   "source": [
    "- Detailed schedule will be available at [https://github.com/bmeaut/python_nlp_2018_spring](https://github.com/bmeaut/python_nlp_2018_spring)"
   ]
  },
  {
   "cell_type": "markdown",
   "metadata": {
    "slideshow": {
     "slide_type": "slide"
    }
   },
   "source": [
    "## Instructors (Python):"
   ]
  },
  {
   "cell_type": "markdown",
   "metadata": {
    "slideshow": {
     "slide_type": "fragment"
    }
   },
   "source": [
    "- Judit Ács (BME AUT), judit@aut.bme.hu\n",
    "<img src=\"media/acs.jpg\" width=\"200\">"
   ]
  },
  {
   "cell_type": "markdown",
   "metadata": {
    "slideshow": {
     "slide_type": "slide"
    }
   },
   "source": [
    "## Instructors (NLP)"
   ]
  },
  {
   "cell_type": "markdown",
   "metadata": {
    "slideshow": {
     "slide_type": "fragment"
    }
   },
   "source": [
    "- Dávid Nemeskey (MTA SZTAKI), nemeskeyd@gmail.com\n",
    "<img src=\"media/nemeskey.jpg\" width=\"200\">"
   ]
  },
  {
   "cell_type": "markdown",
   "metadata": {
    "slideshow": {
     "slide_type": "fragment"
    }
   },
   "source": [
    "- Gábor Recski (BME AUT), recski@aut.bme.hu\n",
    "<img src=\"media/recski.jpg\" width=\"200\">"
   ]
  },
  {
   "cell_type": "markdown",
   "metadata": {
    "slideshow": {
     "slide_type": "slide"
    }
   },
   "source": [
    "General questions, e.g. about requirements, grading, etc. should be submitted as GitHub issues or sent to Gábor Recski (recski@aut.bme.hu, +36209709419)"
   ]
  },
  {
   "cell_type": "markdown",
   "metadata": {
    "slideshow": {
     "slide_type": "slide"
    }
   },
   "source": [
    "# 1.2 Requirements, course material\n",
    "<a id='1.2'></a>"
   ]
  },
  {
   "cell_type": "markdown",
   "metadata": {
    "slideshow": {
     "slide_type": "slide"
    }
   },
   "source": [
    "## Requirements"
   ]
  },
  {
   "cell_type": "markdown",
   "metadata": {
    "slideshow": {
     "slide_type": "fragment"
    }
   },
   "source": [
    "- lab attendance (no more than 3 labs can be missed)"
   ]
  },
  {
   "cell_type": "markdown",
   "metadata": {
    "slideshow": {
     "slide_type": "fragment"
    }
   },
   "source": [
    "- 3 homework assignments, each of which must be awarded a passing grade"
   ]
  },
  {
   "cell_type": "markdown",
   "metadata": {
    "slideshow": {
     "slide_type": "fragment"
    }
   },
   "source": [
    "- Late submission of 1 homework is possible by the end of the re-take period (pótlási hét)."
   ]
  },
  {
   "cell_type": "markdown",
   "metadata": {
    "slideshow": {
     "slide_type": "fragment"
    }
   },
   "source": [
    "- Oral exam (NLP + Python, also in English!)"
   ]
  },
  {
   "cell_type": "markdown",
   "metadata": {
    "slideshow": {
     "slide_type": "fragment"
    }
   },
   "source": [
    "- Final grade: 50% homeworks, 50% exam"
   ]
  },
  {
   "cell_type": "markdown",
   "metadata": {
    "slideshow": {
     "slide_type": "fragment"
    }
   },
   "source": [
    "- See also the [official course description](https://portal.vik.bme.hu/kepzes/targyak/VIAUAV35/en/) "
   ]
  },
  {
   "cell_type": "markdown",
   "metadata": {
    "slideshow": {
     "slide_type": "slide"
    }
   },
   "source": [
    "## Course Material"
   ]
  },
  {
   "cell_type": "markdown",
   "metadata": {
    "slideshow": {
     "slide_type": "fragment"
    }
   },
   "source": [
    "  - All material used in class is available from the course's GitHub repository at [https://github.com/bmeaut/python_nlp_2018_spring](https://github.com/bmeaut/python_nlp_2018_spring)"
   ]
  },
  {
   "cell_type": "markdown",
   "metadata": {
    "slideshow": {
     "slide_type": "fragment"
    }
   },
   "source": [
    "- GitHub issues should be used to ask questions and discuss topics related to the course"
   ]
  },
  {
   "cell_type": "markdown",
   "metadata": {
    "slideshow": {
     "slide_type": "fragment"
    }
   },
   "source": [
    "  - Links to external material will be spread out across the slides"
   ]
  },
  {
   "cell_type": "markdown",
   "metadata": {
    "slideshow": {
     "slide_type": "fragment"
    }
   },
   "source": [
    "- Official Python documentation at [https://docs.python.org/3/]()"
   ]
  },
  {
   "cell_type": "markdown",
   "metadata": {
    "slideshow": {
     "slide_type": "fragment"
    }
   },
   "source": [
    "- Jurafsky, D., & Martin, J. H. (2014). Speech and language processing. Pearson\n",
    "    - [2nd edition](https://www.amazon.com/Speech-Language-Processing-Daniel-Jurafsky/dp/0131873210)\n",
    "    - [3rd edition (work-in-progress)](https://web.stanford.edu/~jurafsky/slp3/)"
   ]
  },
  {
   "cell_type": "markdown",
   "metadata": {
    "slideshow": {
     "slide_type": "slide"
    }
   },
   "source": [
    "# 1.3 What is Natural Language Processing?\n",
    "<a id='1.3'></a>"
   ]
  },
  {
   "cell_type": "markdown",
   "metadata": {
    "slideshow": {
     "slide_type": "slide"
    }
   },
   "source": [
    "## What is NLP? (1)"
   ]
  },
  {
   "cell_type": "code",
   "execution_count": 1,
   "metadata": {
    "slideshow": {
     "slide_type": "fragment"
    }
   },
   "outputs": [
    {
     "data": {
      "image/svg+xml": [
       "<?xml version=\"1.0\" encoding=\"UTF-8\" standalone=\"no\"?>\n",
       "<!DOCTYPE svg PUBLIC \"-//W3C//DTD SVG 1.1//EN\"\n",
       " \"http://www.w3.org/Graphics/SVG/1.1/DTD/svg11.dtd\">\n",
       "<!-- Generated by graphviz version 2.38.0 (20140413.2041)\n",
       " -->\n",
       "<!-- Title: %3 Pages: 1 -->\n",
       "<svg width=\"516pt\" height=\"162pt\"\n",
       " viewBox=\"0.00 0.00 515.87 162.00\" xmlns=\"http://www.w3.org/2000/svg\" xmlns:xlink=\"http://www.w3.org/1999/xlink\">\n",
       "<g id=\"graph0\" class=\"graph\" transform=\"scale(1 1) rotate(0) translate(4 158)\">\n",
       "<title>%3</title>\n",
       "<polygon fill=\"white\" stroke=\"none\" points=\"-4,4 -4,-158 511.867,-158 511.867,4 -4,4\"/>\n",
       "<!-- I -->\n",
       "<g id=\"node1\" class=\"node\"><title>I</title>\n",
       "<ellipse fill=\"none\" stroke=\"black\" cx=\"89.692\" cy=\"-34\" rx=\"89.8845\" ry=\"18\"/>\n",
       "<text text-anchor=\"middle\" x=\"89.692\" y=\"-30.3\" font-family=\"Times,serif\" font-size=\"14.00\">natural language input</text>\n",
       "</g>\n",
       "<!-- C -->\n",
       "<g id=\"node2\" class=\"node\"><title>C</title>\n",
       "<polygon fill=\"none\" stroke=\"black\" points=\"283.384,-68 215.384,-68 215.384,-0 283.384,-0 283.384,-68\"/>\n",
       "<text text-anchor=\"middle\" x=\"249.384\" y=\"-30.3\" font-family=\"Times,serif\" font-size=\"14.00\">computer</text>\n",
       "</g>\n",
       "<!-- I&#45;&gt;C -->\n",
       "<g id=\"edge1\" class=\"edge\"><title>I&#45;&gt;C</title>\n",
       "<path fill=\"none\" stroke=\"black\" d=\"M179.677,-34C188.42,-34 196.995,-34 204.96,-34\"/>\n",
       "<polygon fill=\"black\" stroke=\"black\" points=\"205.044,-37.5001 215.044,-34 205.044,-30.5001 205.044,-37.5001\"/>\n",
       "</g>\n",
       "<!-- O -->\n",
       "<g id=\"node3\" class=\"node\"><title>O</title>\n",
       "<ellipse fill=\"none\" stroke=\"black\" cx=\"413.626\" cy=\"-34\" rx=\"65.7887\" ry=\"18\"/>\n",
       "<text text-anchor=\"middle\" x=\"413.626\" y=\"-30.3\" font-family=\"Times,serif\" font-size=\"14.00\">arbitrary output</text>\n",
       "</g>\n",
       "<!-- C&#45;&gt;O -->\n",
       "<g id=\"edge2\" class=\"edge\"><title>C&#45;&gt;O</title>\n",
       "<path fill=\"none\" stroke=\"black\" d=\"M283.608,-34C299.324,-34 318.778,-34 337.771,-34\"/>\n",
       "<polygon fill=\"black\" stroke=\"black\" points=\"337.943,-37.5001 347.943,-34 337.943,-30.5001 337.943,-37.5001\"/>\n",
       "</g>\n",
       "<!-- I2 -->\n",
       "<g id=\"node4\" class=\"node\"><title>I2</title>\n",
       "<ellipse fill=\"none\" stroke=\"black\" cx=\"89.692\" cy=\"-120\" rx=\"61.99\" ry=\"18\"/>\n",
       "<text text-anchor=\"middle\" x=\"89.692\" y=\"-116.3\" font-family=\"Times,serif\" font-size=\"14.00\">arbitrary input</text>\n",
       "</g>\n",
       "<!-- C2 -->\n",
       "<g id=\"node5\" class=\"node\"><title>C2</title>\n",
       "<polygon fill=\"none\" stroke=\"black\" points=\"283.384,-154 215.384,-154 215.384,-86 283.384,-86 283.384,-154\"/>\n",
       "<text text-anchor=\"middle\" x=\"249.384\" y=\"-116.3\" font-family=\"Times,serif\" font-size=\"14.00\">computer</text>\n",
       "</g>\n",
       "<!-- I2&#45;&gt;C2 -->\n",
       "<g id=\"edge3\" class=\"edge\"><title>I2&#45;&gt;C2</title>\n",
       "<path fill=\"none\" stroke=\"black\" d=\"M151.66,-120C169.434,-120 188.487,-120 204.944,-120\"/>\n",
       "<polygon fill=\"black\" stroke=\"black\" points=\"205.343,-123.5 215.343,-120 205.343,-116.5 205.343,-123.5\"/>\n",
       "</g>\n",
       "<!-- O2 -->\n",
       "<g id=\"node6\" class=\"node\"><title>O2</title>\n",
       "<ellipse fill=\"none\" stroke=\"black\" cx=\"413.626\" cy=\"-120\" rx=\"94.4839\" ry=\"18\"/>\n",
       "<text text-anchor=\"middle\" x=\"413.626\" y=\"-116.3\" font-family=\"Times,serif\" font-size=\"14.00\">natural language output</text>\n",
       "</g>\n",
       "<!-- C2&#45;&gt;O2 -->\n",
       "<g id=\"edge4\" class=\"edge\"><title>C2&#45;&gt;O2</title>\n",
       "<path fill=\"none\" stroke=\"black\" d=\"M283.608,-120C291.286,-120 299.857,-120 308.83,-120\"/>\n",
       "<polygon fill=\"black\" stroke=\"black\" points=\"309.106,-123.5 319.106,-120 309.106,-116.5 309.106,-123.5\"/>\n",
       "</g>\n",
       "</g>\n",
       "</svg>\n"
      ],
      "text/plain": [
       "<graphviz.dot.Digraph at 0x7fae14639390>"
      ]
     },
     "execution_count": 1,
     "metadata": {},
     "output_type": "execute_result"
    }
   ],
   "source": [
    "from graphviz import Digraph\n",
    "dot = Digraph()\n",
    "dot.graph_attr['rankdir'] = 'LR'\n",
    "dot.node('I', 'natural language input')\n",
    "dot.node('C', 'computer', shape=\"square\")\n",
    "dot.node('O', 'arbitrary output')\n",
    "dot.edge('I', 'C')\n",
    "dot.edge('C', 'O')\n",
    "\n",
    "dot.node('I2', 'arbitrary input')\n",
    "dot.node('C2', 'computer', shape=\"square\")\n",
    "dot.node('O2', 'natural language output')\n",
    "dot.edge('I2', 'C2')\n",
    "dot.edge('C2', 'O2')\n",
    "\n",
    "dot.render(\"nlp\")\n",
    "dot"
   ]
  },
  {
   "cell_type": "markdown",
   "metadata": {
    "slideshow": {
     "slide_type": "slide"
    }
   },
   "source": [
    "## What is NLP? (2)"
   ]
  },
  {
   "cell_type": "markdown",
   "metadata": {
    "collapsed": true,
    "slideshow": {
     "slide_type": "fragment"
    }
   },
   "source": [
    " | less abstract | middle      | abstract  |\n",
    ":-|:------------- |:-------------|:----------|\n",
    "language:| Natural Language|Artificial Language|Mathematics\n",
    "example:| English        | programming langauges| formulas, equations\n",
    "usage: | spoken by many   | fewer| spoken by few\n",
    "interpretation:| vague   | mostly well defined| only one way to interpret\n",
    "applications:| everywhere, by everyone| broad, but the users don't see it| specific, unseen by users"
   ]
  },
  {
   "cell_type": "markdown",
   "metadata": {
    "slideshow": {
     "slide_type": "slide"
    }
   },
   "source": [
    "## What is NLP? (3)"
   ]
  },
  {
   "cell_type": "markdown",
   "metadata": {
    "slideshow": {
     "slide_type": "fragment"
    }
   },
   "source": [
    "\"NLP is a branch of artificial intelligence\" (LifeWire)"
   ]
  },
  {
   "cell_type": "markdown",
   "metadata": {
    "slideshow": {
     "slide_type": "fragment"
    }
   },
   "source": [
    "\"Natural language processing (NLP) is a field of computer science, artificial intelligence and computational linguistics concerned with the interactions between computers and human (natural) languages\" (Wikipedia)"
   ]
  },
  {
   "cell_type": "markdown",
   "metadata": {
    "slideshow": {
     "slide_type": "fragment"
    }
   },
   "source": [
    "\"[NLP] is one of the most important technologies of the information age. (...) Applications of NLP are everywhere because people communicate most everything in language\" (Manning & Socher: NLP with Deep Learning course at Stanford)"
   ]
  },
  {
   "cell_type": "markdown",
   "metadata": {
    "slideshow": {
     "slide_type": "fragment"
    }
   },
   "source": [
    "\"Ever wondered how Google Translate works, or how companies do automated resume processing? Want to build a computer that understands language? This course is for you. It develops an in-depth understanding of both algorithms for processing linguistic information and the underlying computational properties of natural languages.\" (Manning et al.: Intro to NLP course at Stanford)"
   ]
  }
 ],
 "metadata": {
  "celltoolbar": "Slideshow",
  "kernelspec": {
   "display_name": "Python 3",
   "language": "python",
   "name": "python3"
  },
  "language_info": {
   "codemirror_mode": {
    "name": "ipython",
    "version": 3
   },
   "file_extension": ".py",
   "mimetype": "text/x-python",
   "name": "python",
   "nbconvert_exporter": "python",
   "pygments_lexer": "ipython3",
   "version": "3.5.2"
  }
 },
 "nbformat": 4,
 "nbformat_minor": 2
}
