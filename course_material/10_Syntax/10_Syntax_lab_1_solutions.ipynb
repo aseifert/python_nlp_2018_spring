{
 "cells": [
  {
   "cell_type": "markdown",
   "metadata": {
    "deletable": true,
    "editable": true
   },
   "source": [
    "# 10. Syntax — Lab solutions"
   ]
  },
  {
   "cell_type": "markdown",
   "metadata": {
    "deletable": true,
    "editable": true
   },
   "source": [
    "## Preparations"
   ]
  },
  {
   "cell_type": "markdown",
   "metadata": {
    "deletable": true,
    "editable": true
   },
   "source": [
    "### Introduction\n",
    "\n",
    "In this lab, we are going to use the [Python Natural Language Toolkit](http://www.nltk.org/) (`nltk`). It has an API that allows you to create, read, and parse with Context-free Grammars (CFG), as well as to convert parse trees to Chomsky Normal Form (CNF) and back and to display or pretty print them.\n",
    "\n",
    "During the first few exercises, we are going to acquint ourselves with nltk using a toy grammar. In the second part, you will be asked to implement the CKY algorithm and test it on a real world treebank."
   ]
  },
  {
   "cell_type": "markdown",
   "metadata": {
    "deletable": true,
    "editable": true
   },
   "source": [
    "### Infrastructure\n",
    "\n",
    "For today's exercises, you will need the docker image again. Provided you have already downloaded it last time, you can start it by:\n",
    "\n",
    "- `docker ps -a`: lists all the containers you have created. Pick the one you used last time (with any luck, there is only one)\n",
    "- `docker start <container id>`\n",
    "- `docker exec -it <container id> bash`\n",
    "\n",
    "In order to be able to run today's exercises, you will have to install some system- and Python packages as well.\n",
    "\n",
    "```bash\n",
    "apt-get install python3-tk\n",
    "pip install graphviz\n",
    "```\n",
    "\n",
    "When that's done, update your git repository:\n",
    "\n",
    "```bash\n",
    "cd /nlp/python_nlp_2018_spring/\n",
    "git pull\n",
    "```\n",
    "\n",
    "And start the notebook:\n",
    "```\n",
    "jupyter notebook --port=9999 --ip=0.0.0.0 --no-browser --allow-root\n",
    "```"
   ]
  },
  {
   "cell_type": "markdown",
   "metadata": {
    "deletable": true,
    "editable": true
   },
   "source": [
    "### Boilerplate\n",
    "\n",
    "The following code imports the packages we are going to use. It also defines a function that draws the parse trees with the [`Graphviz`](http://www.graphviz.org/) library. `nltk` _can_ display the trees, but it depends on Tcl, which doesn't work on a headless (GUI-less) system."
   ]
  },
  {
   "cell_type": "code",
   "execution_count": 4,
   "metadata": {
    "collapsed": false,
    "deletable": true,
    "editable": true
   },
   "outputs": [],
   "source": [
    "import graphviz\n",
    "import nltk\n",
    "from nltk import Nonterminal\n",
    "from nltk.parse.generate import generate\n",
    "from nltk.tree import Tree\n",
    "\n",
    "def does_tcl_work():\n",
    "    \"\"\"Checks if Tcl is installed and works (e.g. it won't on a headless server).\"\"\"\n",
    "    tree = nltk.tree.Tree('test', [])\n",
    "    try:\n",
    "        tree._repr_png_()\n",
    "        return True\n",
    "    except:\n",
    "        return False\n",
    "\n",
    "def draw_tree(tree):\n",
    "    \"\"\"Draws an NLTK parse tree via Graphviz.\"\"\"\n",
    "    def draw_tree_rec(curr_root, graph, last_node):\n",
    "        node_id = str(int(last_node) + 1)\n",
    "        for child in curr_root:\n",
    "            if isinstance(child, nltk.tree.Tree):\n",
    "                graph.node(node_id, child.label(), penwidth='0')\n",
    "                graph.edge(last_node, node_id, color='darkslategray3', style='bold')\n",
    "                node_id = draw_tree_rec(child, graph, node_id)\n",
    "            else:\n",
    "                graph.node(node_id, child, penwidth='0')\n",
    "                graph.edge(last_node, node_id, color='darkslategray3', style='bold')\n",
    "        return str(int(node_id) + 1)\n",
    "    \n",
    "    graph = graphviz.Graph()\n",
    "    graph.graph_attr['ranksep'] = '0.2'\n",
    "    graph.node('0', tree.label(), penwidth='0')\n",
    "    draw_tree_rec(tree, graph, '0')\n",
    "    return graph._repr_svg_()\n",
    "\n",
    "# Use Graphviz to draw the tree if the Tcl backend of nltk doesn't work\n",
    "if not does_tcl_work():\n",
    "    svg_formatter = get_ipython().display_formatter.formatters['image/svg+xml']\n",
    "    svg_formatter.for_type(nltk.tree.Tree, draw_tree)\n",
    "    # Delete the nltk drawing function, just to be sure\n",
    "    if hasattr(Tree, '_repr_png_'):\n",
    "        delattr(Tree, '_repr_png_')"
   ]
  },
  {
   "cell_type": "markdown",
   "metadata": {
    "deletable": true,
    "editable": true
   },
   "source": [
    "### Disclaimer\n",
    "\n",
    "NLTK is not the only NLP library for Python. [spaCy](https://spacy.io/) is \"industrial-strength\" library which, like NLTK, implements various NLP tools for multiple languages. However, it also supports neural network models (on the GPU as well) and it integrates word vectors. A comparison is [availabe here](https://spacy.io/usage/facts-figures). We teach NLTK in this course because it lends itself better to education and experimentation.\n",
    "\n",
    "However, if you are doing serious NLP work, you should also consider spaCy. But not with the RAM constraints we have to deal with in the lab. :)"
   ]
  },
  {
   "cell_type": "markdown",
   "metadata": {
    "deletable": true,
    "editable": true
   },
   "source": [
    "## Exercises"
   ]
  },
  {
   "cell_type": "markdown",
   "metadata": {
    "deletable": true,
    "editable": true
   },
   "source": [
    "### 1. Get to know nltk\n",
    "\n",
    "In this exercise, we are using the toy grammar from the lecture with a little modification so that it can handle ditransitives."
   ]
  },
  {
   "cell_type": "code",
   "execution_count": 3,
   "metadata": {
    "collapsed": false,
    "deletable": true,
    "editable": true
   },
   "outputs": [],
   "source": [
    "# fromstring() returns a CFG instance from a string\n",
    "# Observe the two ways one can specify alternations in the grammar\n",
    "# and how terminal symbols are specified\n",
    "toy_grammar = nltk.CFG.fromstring(\"\"\"\n",
    "S -> NP VP\n",
    "NP -> Pronoun | ProperNoun | Det Nominal\n",
    "Nominal -> Nominal Noun\n",
    "Nominal -> Noun\n",
    "VP -> Verb | Verb PP | Verb NP | Verb NP PP | Verb NP NP | Verb NP NP PP\n",
    "PP -> Preposition NP\n",
    "Pronoun -> 'he' | 'she' | 'him' | 'her'\n",
    "ProperNoun -> 'John' | 'Mary' | 'Fido'\n",
    "Det -> 'a' | 'an' | 'the'\n",
    "Noun -> 'flower' | 'bone' | 'necklace' | 'dream' | 'hole' | 'café' | 'house' | 'bed'\n",
    "Verb -> 'loves' | 'gives' | 'gave' | 'sleeps' | 'digs' | 'dag' | 'ate'\n",
    "Preposition -> 'in' | 'on' | 'behind'\n",
    "\"\"\")"
   ]
  },
  {
   "cell_type": "code",
   "execution_count": 4,
   "metadata": {
    "collapsed": false,
    "deletable": true,
    "editable": true
   },
   "outputs": [
    {
     "name": "stdout",
     "output_type": "stream",
     "text": [
      "Max RHS length: 4\n",
      "The start symbol is S\n",
      "Is it in CNF: False\n",
      "Is this a lexical grammar: False\n",
      "All productions: [S -> NP VP, NP -> Pronoun, NP -> ProperNoun, NP -> Det Nominal, Nominal -> Nominal Noun, Nominal -> Noun, VP -> Verb, VP -> Verb PP, VP -> Verb NP, VP -> Verb NP PP, VP -> Verb NP NP, VP -> Verb NP NP PP, PP -> Preposition NP, Pronoun -> 'he', Pronoun -> 'she', Pronoun -> 'him', Pronoun -> 'her', ProperNoun -> 'John', ProperNoun -> 'Mary', ProperNoun -> 'Fido', Det -> 'a', Det -> 'an', Det -> 'the', Noun -> 'flower', Noun -> 'bone', Noun -> 'necklace', Noun -> 'dream', Noun -> 'hole', Noun -> 'café', Noun -> 'house', Noun -> 'bed', Verb -> 'loves', Verb -> 'gives', Verb -> 'gave', Verb -> 'sleeps', Verb -> 'digs', Verb -> 'dag', Verb -> 'ate', Preposition -> 'in', Preposition -> 'on', Preposition -> 'behind']\n"
     ]
    }
   ],
   "source": [
    "# Now for some properties:\n",
    "\n",
    "print('Max RHS length:', toy_grammar.max_len())\n",
    "print('The start symbol is', toy_grammar.start())\n",
    "print('Is it in CNF:', toy_grammar.is_chomsky_normal_form())\n",
    "print('Is this a lexical grammar:', toy_grammar.is_lexical())\n",
    "print('All productions:', toy_grammar.productions())"
   ]
  },
  {
   "cell_type": "code",
   "execution_count": 5,
   "metadata": {
    "collapsed": false,
    "deletable": true,
    "editable": true
   },
   "outputs": [
    {
     "name": "stdout",
     "output_type": "stream",
     "text": [
      "he loves\n",
      "he gives\n",
      "he gave\n",
      "he sleeps\n",
      "he digs\n",
      "he dag\n",
      "he ate\n",
      "he loves in he\n",
      "he loves in she\n",
      "he loves in him\n"
     ]
    }
   ],
   "source": [
    "# Let's generate a few sentences\n",
    "for sentence in generate(toy_grammar, n=10):\n",
    "    print(' '.join(sentence))"
   ]
  },
  {
   "cell_type": "markdown",
   "metadata": {
    "deletable": true,
    "editable": true
   },
   "source": [
    "Unfortunately, `generate()` only generates the sentences in order. Also, it can run into problems with recursive grammars. Here is a version that generates random sentences."
   ]
  },
  {
   "cell_type": "code",
   "execution_count": 6,
   "metadata": {
    "collapsed": false,
    "deletable": true,
    "editable": true
   },
   "outputs": [
    {
     "name": "stdout",
     "output_type": "stream",
     "text": [
      "Mary sleeps an dream café house hole hole Mary\n",
      "an bone digs John he on Mary\n",
      "the house bone dag John he\n",
      "the house digs Mary behind the necklace\n",
      "the house gave the hole café behind an flower\n",
      "an flower hole ate an café bone John\n",
      "Mary ate she an hole\n",
      "he digs Fido an hole\n",
      "Fido gives\n",
      "her sleeps\n",
      "her gives she him\n"
     ]
    }
   ],
   "source": [
    "import random\n",
    "from itertools import count\n",
    "\n",
    "def generate_sample(grammar, start=None):\n",
    "    \"\"\"Generates a single sentence randomly.\"\"\"\n",
    "    gen = [start or grammar.start()]\n",
    "    curr_p = 0\n",
    "    while curr_p < len(gen):\n",
    "        production = random.choice(grammar.productions(lhs=gen[curr_p]))\n",
    "        if production.is_lexical():\n",
    "            gen[curr_p] = production.rhs()[0]\n",
    "            curr_p += 1\n",
    "        else:\n",
    "            gen = gen[:curr_p] + list(production.rhs()) + gen[curr_p + 1:]\n",
    "    return ' '.join(gen)\n",
    "\n",
    "def generate_random(grammar, start=None, n=None):\n",
    "    \"\"\"Generates sentences randomly.\"\"\"\n",
    "    for i in count(0):\n",
    "        yield generate_sample(grammar, start)\n",
    "        if i == n:\n",
    "            break\n",
    "\n",
    "for sentence in generate_random(toy_grammar, n=10):\n",
    "    print(sentence)"
   ]
  },
  {
   "cell_type": "markdown",
   "metadata": {
    "deletable": true,
    "editable": true
   },
   "source": [
    "Sentences can also be parsed. Note that the `parse()` method accepts an `iterable`, where each element is a terminal symbol."
   ]
  },
  {
   "cell_type": "code",
   "execution_count": 25,
   "metadata": {
    "collapsed": false,
    "deletable": true,
    "editable": true
   },
   "outputs": [
    {
     "data": {
      "image/png": "[encoded data removed]",
      "text/plain": [
       "Tree('S', [Tree('NP', [Tree('ProperNoun', ['John'])]), Tree('VP', [Tree('Verb', ['gave']), Tree('NP', [Tree('ProperNoun', ['Mary'])]), Tree('NP', [Tree('Det', ['a']), Tree('Nominal', [Tree('Noun', ['flower'])])]), Tree('PP', [Tree('Preposition', ['in']), Tree('NP', [Tree('Det', ['the']), Tree('Nominal', [Tree('Noun', ['café'])])])])])])"
      ]
     },
     "metadata": {},
     "output_type": "display_data"
    }
   ],
   "source": [
    "toy_parser = nltk.ChartParser(toy_grammar)\n",
    "# the split() part is important\n",
    "for tree in toy_parser.parse('John gave Mary a flower in the café'.split()):\n",
    "    display(tree)"
   ]
  },
  {
   "cell_type": "markdown",
   "metadata": {
    "deletable": true,
    "editable": true
   },
   "source": [
    "The parse returns an iterator of `nltk.tree.Tree` objects. This class has some useful functions, such as"
   ]
  },
  {
   "cell_type": "code",
   "execution_count": 7,
   "metadata": {
    "collapsed": false,
    "deletable": true,
    "editable": true
   },
   "outputs": [
    {
     "data": {
      "image/png": "[encoded data removed]",
      "text/plain": [
       "Tree('S', [Tree('NP', [Tree('ProperNoun', ['John'])]), Tree('VP', [Tree('Verb', ['gave']), Tree('VP|<NP-NP-PP>', [Tree('NP', [Tree('ProperNoun', ['Mary'])]), Tree('VP|<NP-PP>', [Tree('NP', [Tree('Det', ['a']), Tree('Nominal', [Tree('Noun', ['flower'])])]), Tree('PP', [Tree('Preposition', ['in']), Tree('NP', [Tree('Det', ['the']), Tree('Nominal', [Tree('Noun', ['café'])])])])])])])])"
      ]
     },
     "metadata": {},
     "output_type": "display_data"
    },
    {
     "name": "stdout",
     "output_type": "stream",
     "text": [
      "The tree has 2 children.\n",
      "The first child is another tree: (NP (ProperNoun John))\n",
      "All nonterminals are Trees. They have labels: VP\n",
      "Terminals are just strings: John\n"
     ]
    }
   ],
   "source": [
    "# Converts the tree to CNF\n",
    "tree.chomsky_normal_form()\n",
    "display(tree)\n",
    "# Let's convert it back...\n",
    "tree.un_chomsky_normal_form()\n",
    "print('The tree has', len(tree), 'children.')\n",
    "print('The first child is another tree:', tree[0])\n",
    "print('All nonterminals are Trees. They have labels:', tree[1].label())\n",
    "print('Terminals are just strings:', tree[0][0][0])"
   ]
  },
  {
   "cell_type": "markdown",
   "metadata": {
    "deletable": true,
    "editable": true
   },
   "source": [
    "Note that in `nltk`, one can convert a `Tree` to CNF, but not the whole grammar. Also, for full CNF conversion, one needs to run two functions:\n",
    "- [`collapse_unary`](http://www.nltk.org/api/nltk.html#nltk.tree.Tree.collapse_unary). Usually with `collapsePOS=True`;\n",
    "- [`chomsky_normal_form`](http://www.nltk.org/api/nltk.html#nltk.tree.Tree.chomsky_normal_form).\n",
    "\n",
    "The function [`un_chomsky_normal_form`](http://www.nltk.org/api/nltk.html#nltk.tree.Tree.un_chomsky_normal_form) undoes both transformations."
   ]
  },
  {
   "cell_type": "markdown",
   "metadata": {
    "deletable": true,
    "editable": true
   },
   "source": [
    "As you can see, `nltk` has some strange design choices - another being their reliance on Tcl. If you run this notebook on a machine with Tcl installed, a nifty grammar editing tool will pop up if you run"
   ]
  },
  {
   "cell_type": "code",
   "execution_count": 8,
   "metadata": {
    "collapsed": true,
    "deletable": true,
    "editable": true
   },
   "outputs": [],
   "source": [
    "nltk.app.rdparser()"
   ]
  },
  {
   "cell_type": "markdown",
   "metadata": {
    "deletable": true,
    "editable": true
   },
   "source": [
    "### 2. Simple grammars\n",
    "\n",
    "These exercises will help you acquaint yourself with writing context-free grammars. The exercises are not all natural language-related $-$ showing the universality of the formalism"
   ]
  },
  {
   "cell_type": "markdown",
   "metadata": {
    "deletable": true,
    "editable": true
   },
   "source": [
    "#### 2.1 Palindrome\n",
    "\n",
    "Write a grammar that accepts the following language: $L = \\{\\text{w}c\\text{w}^\\text{R} | \\text{w}\\in\\{a,b\\}^*\\}$ ($\\text{w}^\\text{R} = \\text{w}$ backwards).\n",
    "\n",
    "**Note**: the simplest solution (with a single `S` nonterminal **will not work** because of a bug in `nltk.ChartParser`). Use more nonterminals."
   ]
  },
  {
   "cell_type": "code",
   "execution_count": 41,
   "metadata": {
    "collapsed": false,
    "deletable": true,
    "editable": true
   },
   "outputs": [
    {
     "name": "stdout",
     "output_type": "stream",
     "text": [
      "[S -> A S A, S -> B S B, S -> 'c', A -> 'a', B -> 'b']\n"
     ]
    },
    {
     "data": {
      "image/png": "[encoded data removed]",
      "text/plain": [
       "Tree('S', [Tree('A', ['a']), Tree('S', [Tree('B', ['b']), Tree('S', [Tree('A', ['a']), Tree('S', ['c']), Tree('A', ['a'])]), Tree('B', ['b'])]), Tree('A', ['a'])])"
      ]
     },
     "metadata": {},
     "output_type": "display_data"
    }
   ],
   "source": [
    "# Your solution here\n",
    "pgr = nltk.CFG.fromstring(\"\"\"\n",
    "S -> A S A | B S B | 'c'\n",
    "A -> 'a'\n",
    "B -> 'b'\n",
    "\"\"\")\n",
    "\n",
    "pparser = nltk.ChartParser(pgr)\n",
    "print(pgr.productions())\n",
    "\n",
    "# Tests\n",
    "assert pparser.parse_one('aca') is not None\n",
    "assert pparser.parse_one('abc') is None\n",
    "assert pparser.parse_one('aacba') is None\n",
    "\n",
    "for tree in pparser.parse('abacaba'):\n",
    "    display(tree)"
   ]
  },
  {
   "cell_type": "markdown",
   "metadata": {
    "deletable": true,
    "editable": true
   },
   "source": [
    "#### 2.2 Restricted palindrome\n",
    "\n",
    "The same as before, but `w` can at most be 3 characters long."
   ]
  },
  {
   "cell_type": "code",
   "execution_count": 45,
   "metadata": {
    "collapsed": false,
    "deletable": true,
    "editable": true
   },
   "outputs": [],
   "source": [
    "pgr = nltk.CFG.fromstring(\"\"\"\n",
    "S1 -> A S2 A | B S2 B | S2\n",
    "S2 -> A S3 A | B S3 B | S3\n",
    "S3 -> A 'c' A | B 'c' B | 'c'\n",
    "A -> 'a'\n",
    "B -> 'b'\n",
    "\"\"\")\n",
    "\n",
    "pparser = nltk.ChartParser(pgr)\n",
    "\n",
    "# Tests\n",
    "assert pparser.parse_one('aca') is not None\n",
    "assert pparser.parse_one('bbcbb') is not None\n",
    "assert pparser.parse_one('abacaba') is not None\n",
    "assert pparser.parse_one('aacba') is None\n",
    "assert pparser.parse_one('babacabab') is None"
   ]
  },
  {
   "cell_type": "markdown",
   "metadata": {
    "deletable": true,
    "editable": true
   },
   "source": [
    "#### 2.3 Agreement\n",
    "\n",
    "Not exactly linguistic agreement, but related. Find a Context-Free Grammar for the following language:\n",
    "$L = \\{\\text{a}^n\\text{b}^m\\text{c}^k: n + m = k\\}$"
   ]
  },
  {
   "cell_type": "code",
   "execution_count": 49,
   "metadata": {
    "collapsed": false,
    "deletable": true,
    "editable": true
   },
   "outputs": [],
   "source": [
    "agr = nltk.CFG.fromstring(\"\"\"\n",
    "SA -> A SA C | SB | A C\n",
    "SB -> B SB C | B C\n",
    "A -> 'a'\n",
    "B -> 'b'\n",
    "C -> 'c'\n",
    "\"\"\")\n",
    "\n",
    "aparser = nltk.ChartParser(agr)\n",
    "\n",
    "# Tests\n",
    "assert aparser.parse_one('aabccc') is not None\n",
    "assert aparser.parse_one('bc') is not None\n",
    "assert aparser.parse_one('aacc') is not None\n",
    "assert aparser.parse_one('aabc') is None\n",
    "assert aparser.parse_one('abbbcccccc') is None\n",
    "assert aparser.parse_one('bacc') is None"
   ]
  },
  {
   "cell_type": "markdown",
   "metadata": {
    "deletable": true,
    "editable": true
   },
   "source": [
    "### 3. Arithmetics\n",
    "\n",
    "#### 3.1 Basics\n",
    "Model the four elementary mathematical operations, namely `+`, `-`, `*` and `/`. Your tasks is to validate mathematical expressions that use them. Specifically:\n",
    "- single-digit numbers are valid expressions\n",
    "- if `expr1` and `expr2` are valid expressions, these are also valid:\n",
    "  - `expr1 + expr2`\n",
    "  - `expr1 - expr2`\n",
    "  - `expr1 * expr2`\n",
    "  - `expr1 / expr2`\n",
    "  - `(expr1)`\n",
    "  \n",
    "Try to solve it with as few nonterminals as possible."
   ]
  },
  {
   "cell_type": "code",
   "execution_count": 9,
   "metadata": {
    "collapsed": false,
    "deletable": true,
    "editable": true
   },
   "outputs": [
    {
     "data": {
      "image/png": "[encoded data removed]",
      "text/plain": [
       "Tree('S', [Tree('S', [Tree('S', ['1']), '-', Tree('S', ['2'])]), '/', Tree('S', ['(', Tree('S', [Tree('S', ['3']), '-', Tree('S', ['4'])]), ')'])])"
      ]
     },
     "metadata": {},
     "output_type": "display_data"
    },
    {
     "data": {
      "image/png": "[encoded data removed]",
      "text/plain": [
       "Tree('S', [Tree('S', ['1']), '-', Tree('S', [Tree('S', ['2']), '/', Tree('S', ['(', Tree('S', [Tree('S', ['3']), '-', Tree('S', ['4'])]), ')'])])])"
      ]
     },
     "metadata": {},
     "output_type": "display_data"
    }
   ],
   "source": [
    "# Your solution here\n",
    "agr = nltk.CFG.fromstring(\"\"\"\n",
    "S -> '1' | '2' | '3' | '4' | '5' | '6' | '7' | '8' | '9'\n",
    "S -> S '+' S\n",
    "S -> S '-' S\n",
    "S -> S '*' S\n",
    "S -> S '/' S\n",
    "S -> '(' S ')'\n",
    "\"\"\")\n",
    "aparser = nltk.ChartParser(agr)\n",
    "\n",
    "for tree in aparser.parse('1 - 2 / ( 3 - 4 )'.split()):\n",
    "    display(tree)"
   ]
  },
  {
   "cell_type": "markdown",
   "metadata": {
    "deletable": true,
    "editable": true
   },
   "source": [
    "#### 3.2 Precedence\n",
    "\n",
    "If you implemented the previous task with a single nonterminal, you will see that the grammar is undeterministic, and some parses do not reflect the precedence of mathematical operators. Fix the grammar so that it does!\n",
    "\n",
    "Hints:\n",
    "- `+` and `-` should be higher up the tree than `*` and `/`\n",
    "- you will need at least 3 nonterminals\n",
    "- allow chaining of the same operator types, e.g. `1 + 2 - 3`. One of the nonterminals in the toy grammar above does something similar\n",
    "- do not worry about unit productions, but don't create a unit recursion cycle (e.g. `A -> B -> C -> A`)"
   ]
  },
  {
   "cell_type": "code",
   "execution_count": 10,
   "metadata": {
    "collapsed": false,
    "deletable": true,
    "editable": true
   },
   "outputs": [
    {
     "data": {
      "image/png": "[encoded data removed]",
      "text/plain": [
       "Tree('E', [Tree('E', [Tree('A', [Tree('M', ['1'])])]), '-', Tree('A', [Tree('A', [Tree('M', ['2'])]), '/', Tree('M', ['(', Tree('E', [Tree('E', [Tree('A', [Tree('M', ['3'])])]), '-', Tree('A', [Tree('M', ['4'])])]), ')'])])])"
      ]
     },
     "metadata": {},
     "output_type": "display_data"
    }
   ],
   "source": [
    "agr = nltk.CFG.fromstring(\"\"\"\n",
    "E -> E '+' A | E '-' A | A\n",
    "A -> A '*' M | A '/' M | M\n",
    "M -> '(' E ')'\n",
    "M -> '1' | '2' | '3' | '4' | '5' | '6' | '7' | '8' | '9'\n",
    "\"\"\")\n",
    "\n",
    "aparser = nltk.ChartParser(agr)\n",
    "\n",
    "# Tests\n",
    "for tree in aparser.parse('1 - 2 / ( 3 - 4 )'.split()):\n",
    "    display(tree)\n",
    "assert len(list(aparser.parse('1 - 2 + 3 / ( 4 - 5 )'.split()))) > 0"
   ]
  },
  {
   "cell_type": "markdown",
   "metadata": {
    "deletable": true,
    "editable": true
   },
   "source": [
    "#### 3.3 CNF\n",
    "\n",
    "Parse an expression and convert the resulting tree into CNF. If you succeed, congratulations, you can skip this exercise.\n",
    "\n",
    "However, most likely the function will throw an exception. This is because the NLTK algorithm cannot cope with rules that mix nonterminals and terminals in certain ways (e.g. `A -> B '+' C`). Fix your grammar by introducing a POS-like nonterminal (e.g. `add` for `+`) into each such rule."
   ]
  },
  {
   "cell_type": "code",
   "execution_count": 101,
   "metadata": {
    "collapsed": false,
    "deletable": true,
    "editable": true
   },
   "outputs": [
    {
     "data": {
      "image/png": "[encoded data removed]",
      "text/plain": [
       "Tree('E', [Tree('E', [Tree('A', [Tree('M', ['1'])])]), Tree('E|<sub-A>', [Tree('sub', ['-']), Tree('A', [Tree('A', [Tree('M', ['2'])]), Tree('A|<truediv-M>', [Tree('truediv', ['/']), Tree('M', [Tree('LBR', ['(']), Tree('M|<E-RBR>', [Tree('E', [Tree('E', [Tree('A', [Tree('M', ['3'])])]), Tree('E|<sub-A>', [Tree('sub', ['-']), Tree('A', [Tree('M', ['4'])])])]), Tree('RBR', [')'])])])])])])])"
      ]
     },
     "metadata": {},
     "output_type": "display_data"
    }
   ],
   "source": [
    "agr = nltk.CFG.fromstring(\"\"\"\n",
    "E -> E add A | E sub A | A\n",
    "A -> A mul M | A truediv M | M\n",
    "M -> LBR E RBR | '1' | '2' | '3' | '4' | '5' | '6' | '7' | '8' | '9'\n",
    "add -> '+'\n",
    "sub -> '-'\n",
    "mul -> '*'\n",
    "truediv -> '/'\n",
    "LBR -> '('\n",
    "RBR -> ')'\n",
    "\"\"\")\n",
    "\n",
    "aparser = nltk.ChartParser(agr)\n",
    "\n",
    "tree = list(aparser.parse('1 - 2 / ( 3 - 4 )'.split()))[0]\n",
    "tree.chomsky_normal_form()\n",
    "display(tree)"
   ]
  },
  {
   "cell_type": "markdown",
   "metadata": {
    "deletable": true,
    "editable": true
   },
   "source": [
    "#### 3.4 Evaluation*\n",
    "\n",
    "Compute the value of the expression. Implement a recursive function that traverses the tree and returns an interger.\n",
    "\n",
    "Note: if you implemented this function well, but get an `AssertionError` from the last line, it means that your grammar is probably right associative. Look at the (non-CNF) tree to confirm this. If so, make it left associative."
   ]
  },
  {
   "cell_type": "code",
   "execution_count": 14,
   "metadata": {
    "collapsed": false,
    "deletable": true,
    "editable": true
   },
   "outputs": [],
   "source": [
    "def evaluate_tree(tree):\n",
    "    \"\"\"Returns the value of the expression represented by tree.\"\"\"\n",
    "    import operator\n",
    "    if len(tree) == 3:\n",
    "        if tree.label() in ['E', 'A']:\n",
    "            val = getattr(operator, tree[1].label())(\n",
    "                evaluate_tree(tree[0]),\n",
    "                evaluate_tree(tree[2])\n",
    "            )\n",
    "            return val\n",
    "        else:  # M\n",
    "            return evaluate_tree(tree[1])\n",
    "    elif tree.label() == 'M':  # M\n",
    "        return int(tree[0])\n",
    "    else:\n",
    "        return evaluate_tree(tree[0])\n",
    "\n",
    "# Tests\n",
    "assert evaluate_tree(next(aparser.parse('1+2'))) == 3\n",
    "assert evaluate_tree(next(aparser.parse('1+2*3'))) == 7\n",
    "assert evaluate_tree(next(aparser.parse('3/(2-3)-4/2-5'))) == -10"
   ]
  },
  {
   "cell_type": "markdown",
   "metadata": {
    "deletable": true,
    "editable": true
   },
   "source": [
    "### 4. Treebanks\n",
    "\n",
    "NLTK also contains corpora. Amongst others, it contains about 10% of the Penn TreeBank (PTB)."
   ]
  },
  {
   "cell_type": "markdown",
   "metadata": {
    "deletable": true,
    "editable": true
   },
   "source": [
    "#### 4.1 Download\n",
    "\n",
    "Download the corpus with the `nltk.download()` tool. It is under Corpora and is called `treebank`."
   ]
  },
  {
   "cell_type": "code",
   "execution_count": 3,
   "metadata": {
    "collapsed": false,
    "deletable": true,
    "editable": true
   },
   "outputs": [
    {
     "name": "stdout",
     "output_type": "stream",
     "text": [
      "[nltk_data] Downloading package treebank to /home/david/nltk_data...\n",
      "[nltk_data]   Package treebank is already up-to-date!\n"
     ]
    },
    {
     "data": {
      "text/plain": [
       "True"
      ]
     },
     "execution_count": 3,
     "metadata": {},
     "output_type": "execute_result"
    }
   ],
   "source": [
    "nltk.download('treebank')"
   ]
  },
  {
   "cell_type": "markdown",
   "metadata": {
    "deletable": true,
    "editable": true
   },
   "source": [
    "#### 4.2 Corpus statistics\n",
    "\n",
    "The functions below can be used to get the file ids, words, sentences, parse trees from the treebank.\n",
    "\n",
    "Using them, get the following following corpus statistics:\n",
    "- the number of sentences\n",
    "- number of words"
   ]
  },
  {
   "cell_type": "code",
   "execution_count": 4,
   "metadata": {
    "collapsed": false,
    "deletable": true,
    "editable": true
   },
   "outputs": [
    {
     "name": "stdout",
     "output_type": "stream",
     "text": [
      "Ids: ['wsj_0001.mrg', 'wsj_0002.mrg', 'wsj_0003.mrg', 'wsj_0004.mrg', 'wsj_0005.mrg', 'wsj_0006.mrg', 'wsj_0007.mrg', 'wsj_0008.mrg', 'wsj_0009.mrg', 'wsj_0010.mrg', 'wsj_0011.mrg', 'wsj_0012.mrg', 'wsj_0013.mrg', 'wsj_0014.mrg', 'wsj_0015.mrg', 'wsj_0016.mrg', 'wsj_0017.mrg', 'wsj_0018.mrg', 'wsj_0019.mrg', 'wsj_0020.mrg', 'wsj_0021.mrg', 'wsj_0022.mrg', 'wsj_0023.mrg', 'wsj_0024.mrg', 'wsj_0025.mrg', 'wsj_0026.mrg', 'wsj_0027.mrg', 'wsj_0028.mrg', 'wsj_0029.mrg', 'wsj_0030.mrg', 'wsj_0031.mrg', 'wsj_0032.mrg', 'wsj_0033.mrg', 'wsj_0034.mrg', 'wsj_0035.mrg', 'wsj_0036.mrg', 'wsj_0037.mrg', 'wsj_0038.mrg', 'wsj_0039.mrg', 'wsj_0040.mrg', 'wsj_0041.mrg', 'wsj_0042.mrg', 'wsj_0043.mrg', 'wsj_0044.mrg', 'wsj_0045.mrg', 'wsj_0046.mrg', 'wsj_0047.mrg', 'wsj_0048.mrg', 'wsj_0049.mrg', 'wsj_0050.mrg', 'wsj_0051.mrg', 'wsj_0052.mrg', 'wsj_0053.mrg', 'wsj_0054.mrg', 'wsj_0055.mrg', 'wsj_0056.mrg', 'wsj_0057.mrg', 'wsj_0058.mrg', 'wsj_0059.mrg', 'wsj_0060.mrg', 'wsj_0061.mrg', 'wsj_0062.mrg', 'wsj_0063.mrg', 'wsj_0064.mrg', 'wsj_0065.mrg', 'wsj_0066.mrg', 'wsj_0067.mrg', 'wsj_0068.mrg', 'wsj_0069.mrg', 'wsj_0070.mrg', 'wsj_0071.mrg', 'wsj_0072.mrg', 'wsj_0073.mrg', 'wsj_0074.mrg', 'wsj_0075.mrg', 'wsj_0076.mrg', 'wsj_0077.mrg', 'wsj_0078.mrg', 'wsj_0079.mrg', 'wsj_0080.mrg', 'wsj_0081.mrg', 'wsj_0082.mrg', 'wsj_0083.mrg', 'wsj_0084.mrg', 'wsj_0085.mrg', 'wsj_0086.mrg', 'wsj_0087.mrg', 'wsj_0088.mrg', 'wsj_0089.mrg', 'wsj_0090.mrg', 'wsj_0091.mrg', 'wsj_0092.mrg', 'wsj_0093.mrg', 'wsj_0094.mrg', 'wsj_0095.mrg', 'wsj_0096.mrg', 'wsj_0097.mrg', 'wsj_0098.mrg', 'wsj_0099.mrg', 'wsj_0100.mrg', 'wsj_0101.mrg', 'wsj_0102.mrg', 'wsj_0103.mrg', 'wsj_0104.mrg', 'wsj_0105.mrg', 'wsj_0106.mrg', 'wsj_0107.mrg', 'wsj_0108.mrg', 'wsj_0109.mrg', 'wsj_0110.mrg', 'wsj_0111.mrg', 'wsj_0112.mrg', 'wsj_0113.mrg', 'wsj_0114.mrg', 'wsj_0115.mrg', 'wsj_0116.mrg', 'wsj_0117.mrg', 'wsj_0118.mrg', 'wsj_0119.mrg', 'wsj_0120.mrg', 'wsj_0121.mrg', 'wsj_0122.mrg', 'wsj_0123.mrg', 'wsj_0124.mrg', 'wsj_0125.mrg', 'wsj_0126.mrg', 'wsj_0127.mrg', 'wsj_0128.mrg', 'wsj_0129.mrg', 'wsj_0130.mrg', 'wsj_0131.mrg', 'wsj_0132.mrg', 'wsj_0133.mrg', 'wsj_0134.mrg', 'wsj_0135.mrg', 'wsj_0136.mrg', 'wsj_0137.mrg', 'wsj_0138.mrg', 'wsj_0139.mrg', 'wsj_0140.mrg', 'wsj_0141.mrg', 'wsj_0142.mrg', 'wsj_0143.mrg', 'wsj_0144.mrg', 'wsj_0145.mrg', 'wsj_0146.mrg', 'wsj_0147.mrg', 'wsj_0148.mrg', 'wsj_0149.mrg', 'wsj_0150.mrg', 'wsj_0151.mrg', 'wsj_0152.mrg', 'wsj_0153.mrg', 'wsj_0154.mrg', 'wsj_0155.mrg', 'wsj_0156.mrg', 'wsj_0157.mrg', 'wsj_0158.mrg', 'wsj_0159.mrg', 'wsj_0160.mrg', 'wsj_0161.mrg', 'wsj_0162.mrg', 'wsj_0163.mrg', 'wsj_0164.mrg', 'wsj_0165.mrg', 'wsj_0166.mrg', 'wsj_0167.mrg', 'wsj_0168.mrg', 'wsj_0169.mrg', 'wsj_0170.mrg', 'wsj_0171.mrg', 'wsj_0172.mrg', 'wsj_0173.mrg', 'wsj_0174.mrg', 'wsj_0175.mrg', 'wsj_0176.mrg', 'wsj_0177.mrg', 'wsj_0178.mrg', 'wsj_0179.mrg', 'wsj_0180.mrg', 'wsj_0181.mrg', 'wsj_0182.mrg', 'wsj_0183.mrg', 'wsj_0184.mrg', 'wsj_0185.mrg', 'wsj_0186.mrg', 'wsj_0187.mrg', 'wsj_0188.mrg', 'wsj_0189.mrg', 'wsj_0190.mrg', 'wsj_0191.mrg', 'wsj_0192.mrg', 'wsj_0193.mrg', 'wsj_0194.mrg', 'wsj_0195.mrg', 'wsj_0196.mrg', 'wsj_0197.mrg', 'wsj_0198.mrg', 'wsj_0199.mrg']\n",
      "Words: ['A', 'form', 'of', 'asbestos', 'once', 'used', '*', ...]\n",
      "Tagged words: [('A', 'DT'), ('form', 'NN'), ('of', 'IN'), ...]\n"
     ]
    },
    {
     "data": {
      "image/png": "[encoded data removed]",
      "text/plain": [
       "Tree('S', [Tree('S-TPC-1', [Tree('NP-SBJ', [Tree('NP', [Tree('NP', [Tree('DT', ['A']), Tree('NN', ['form'])]), Tree('PP', [Tree('IN', ['of']), Tree('NP', [Tree('NN', ['asbestos'])])])]), Tree('RRC', [Tree('ADVP-TMP', [Tree('RB', ['once'])]), Tree('VP', [Tree('VBN', ['used']), Tree('NP', [Tree('-NONE-', ['*'])]), Tree('S-CLR', [Tree('NP-SBJ', [Tree('-NONE-', ['*'])]), Tree('VP', [Tree('TO', ['to']), Tree('VP', [Tree('VB', ['make']), Tree('NP', [Tree('NNP', ['Kent']), Tree('NN', ['cigarette']), Tree('NNS', ['filters'])])])])])])])]), Tree('VP', [Tree('VBZ', ['has']), Tree('VP', [Tree('VBN', ['caused']), Tree('NP', [Tree('NP', [Tree('DT', ['a']), Tree('JJ', ['high']), Tree('NN', ['percentage'])]), Tree('PP', [Tree('IN', ['of']), Tree('NP', [Tree('NN', ['cancer']), Tree('NNS', ['deaths'])])]), Tree('PP-LOC', [Tree('IN', ['among']), Tree('NP', [Tree('NP', [Tree('DT', ['a']), Tree('NN', ['group'])]), Tree('PP', [Tree('IN', ['of']), Tree('NP', [Tree('NP', [Tree('NNS', ['workers'])]), Tree('RRC', [Tree('VP', [Tree('VBN', ['exposed']), Tree('NP', [Tree('-NONE-', ['*'])]), Tree('PP-CLR', [Tree('TO', ['to']), Tree('NP', [Tree('PRP', ['it'])])]), Tree('ADVP-TMP', [Tree('NP', [Tree('QP', [Tree('RBR', ['more']), Tree('IN', ['than']), Tree('CD', ['30'])]), Tree('NNS', ['years'])]), Tree('IN', ['ago'])])])])])])])])])])])]), Tree(',', [',']), Tree('NP-SBJ', [Tree('NNS', ['researchers'])]), Tree('VP', [Tree('VBD', ['reported']), Tree('SBAR', [Tree('-NONE-', ['0']), Tree('S', [Tree('-NONE-', ['*T*-1'])])])]), Tree('.', ['.'])])"
      ]
     },
     "metadata": {},
     "output_type": "display_data"
    }
   ],
   "source": [
    "from nltk.corpus import treebank\n",
    "\n",
    "# PTB file ids\n",
    "print('Ids:', treebank.fileids())\n",
    "\n",
    "# Words in one of the files\n",
    "print('Words:', treebank.words('wsj_0003.mrg'))\n",
    "\n",
    "# Word - POS-tag pairs\n",
    "print('Tagged words:', treebank.tagged_words('wsj_0003.mrg'))\n",
    "\n",
    "display(treebank.parsed_sents('wsj_0003.mrg')[0])"
   ]
  },
  {
   "cell_type": "markdown",
   "metadata": {
    "deletable": true,
    "editable": true
   },
   "source": [
    "#### 4.3 POS statistics\n",
    "\n",
    "Using the output of `tagged_words()`, above, create two dictionaries:\n",
    "- `pos_words`: POS tag $\\rightarrow$ words\n",
    "- `word_poss`: word $\\rightarrow$ POS tags\n",
    "\n",
    "With the help of these dictionaries, compute the following statistics:\n",
    "- number of word types\n",
    "- number of POS tags\n",
    "- which POS tag has the most word types\n",
    "- which word has the most POS tags assigned to it\n",
    "\n",
    "**Note**:\n",
    "- use all the files\n",
    "- don't forget to lowercase the words\n",
    "- `defaultdict` might be useful..."
   ]
  },
  {
   "cell_type": "code",
   "execution_count": 20,
   "metadata": {
    "collapsed": false,
    "deletable": true,
    "editable": true
   },
   "outputs": [
    {
     "name": "stdout",
     "output_type": "stream",
     "text": [
      "Number of word types: 11387\n",
      "Number of POS tags: 46\n",
      "Most frequent POS tag: NN\n",
      "Word type with most POS tags: a\n"
     ]
    }
   ],
   "source": [
    "from collections import defaultdict\n",
    "from operator import itemgetter\n",
    "\n",
    "pos_word = defaultdict(set)\n",
    "word_pos = defaultdict(set)\n",
    "for file_id in treebank.fileids():\n",
    "    for Word, POS in treebank.tagged_words(file_id):\n",
    "        word = Word.lower()\n",
    "        pos_word[POS].add(word)\n",
    "        word_pos[word].add(POS)\n",
    "        \n",
    "word_types = len(word_pos)\n",
    "pos_tags = len(pos_word)\n",
    "most_frequent_pos = sorted(pos_word.items(), key=lambda pw: len(pw[1]), reverse=True)[0][0]\n",
    "word_with_most_pos = sorted(word_pos.items(), key=lambda wp: len(wp[1]), reverse=True)[0][0]\n",
    "\n",
    "print('Number of word types:', word_types)\n",
    "print('Number of POS tags:', pos_tags)\n",
    "print('Most frequent POS tag:', most_frequent_pos)\n",
    "print('Word type with most POS tags:', word_with_most_pos)\n",
    "\n",
    "# Tests\n",
    "assert word_types == 11387\n",
    "assert pos_tags == 46\n",
    "assert most_frequent_pos == 'NN'\n",
    "assert word_with_most_pos == 'a'"
   ]
  }
 ],
 "metadata": {
  "kernelspec": {
   "display_name": "Python 3",
   "language": "python",
   "name": "python3"
  },
  "language_info": {
   "codemirror_mode": {
    "name": "ipython",
    "version": 3
   },
   "file_extension": ".py",
   "mimetype": "text/x-python",
   "name": "python",
   "nbconvert_exporter": "python",
   "pygments_lexer": "ipython3",
   "version": "3.5.2"
  }
 },
 "nbformat": 4,
 "nbformat_minor": 2
}
