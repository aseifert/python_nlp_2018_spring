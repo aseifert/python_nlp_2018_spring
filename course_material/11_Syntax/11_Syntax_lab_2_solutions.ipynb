{
 "cells": [
  {
   "cell_type": "markdown",
   "metadata": {
    "deletable": true,
    "editable": true
   },
   "source": [
    "# 11. Syntax 2 — Lab solutions"
   ]
  },
  {
   "cell_type": "markdown",
   "metadata": {
    "deletable": true,
    "editable": true
   },
   "source": [
    "### Introduction\n",
    "\n",
    "This is a continuation of the [previous laboratory notebook](../10_Syntax/10_Syntax_lab_1.ipynb). If you haven't solved all exercises in it (especially [exercise 4](../10_Syntax/10_Syntax_lab_1.ipynb#4.-Treebanks), please start with that.\n",
    "\n",
    "Also, since exercises 1 and 2 are similar, I suggest once you solve one of them, you follow up with exercise 3. You can go back to the other one after that."
   ]
  },
  {
   "cell_type": "markdown",
   "metadata": {
    "deletable": true,
    "editable": true
   },
   "source": [
    "### Boilerplate\n",
    "\n",
    "The following code imports the packages we are going to use. It also defines a function that draws the parse trees with the [`Graphviz`](http://www.graphviz.org/) library. `nltk` _can_ display the trees, but it depends on Tcl, which doesn't work on a headless (GUI-less) system."
   ]
  },
  {
   "cell_type": "code",
   "execution_count": 1,
   "metadata": {
    "collapsed": true,
    "deletable": true,
    "editable": true
   },
   "outputs": [],
   "source": [
    "import graphviz\n",
    "import nltk\n",
    "from nltk import Nonterminal\n",
    "from nltk.parse.generate import generate\n",
    "from nltk.tree import Tree\n",
    "\n",
    "def does_tcl_work():\n",
    "    \"\"\"Checks if Tcl is installed and works (e.g. it won't on a headless server).\"\"\"\n",
    "    tree = nltk.tree.Tree('test', [])\n",
    "    try:\n",
    "        tree._repr_png_()\n",
    "        return True\n",
    "    except:\n",
    "        return False\n",
    "\n",
    "def draw_tree(tree):\n",
    "    \"\"\"Draws an NLTK parse tree via Graphviz.\"\"\"\n",
    "    def draw_tree_rec(curr_root, graph, last_node):\n",
    "        node_id = str(int(last_node) + 1)\n",
    "        for child in curr_root:\n",
    "            if isinstance(child, nltk.tree.Tree):\n",
    "                graph.node(node_id, child.label(), penwidth='0')\n",
    "                graph.edge(last_node, node_id, color='darkslategray3', style='bold')\n",
    "                node_id = draw_tree_rec(child, graph, node_id)\n",
    "            else:\n",
    "                graph.node(node_id, child, penwidth='0')\n",
    "                graph.edge(last_node, node_id, color='darkslategray3', style='bold')\n",
    "        return str(int(node_id) + 1)\n",
    "    \n",
    "    graph = graphviz.Graph()\n",
    "    graph.graph_attr['ranksep'] = '0.2'\n",
    "    graph.node('0', tree.label(), penwidth='0')\n",
    "    draw_tree_rec(tree, graph, '0')\n",
    "    return graph._repr_svg_()\n",
    "\n",
    "# Use Graphviz to draw the tree if the Tcl backend of nltk doesn't work\n",
    "if not does_tcl_work():\n",
    "    svg_formatter = get_ipython().display_formatter.formatters['image/svg+xml']\n",
    "    svg_formatter.for_type(nltk.tree.Tree, draw_tree)\n",
    "    # Delete the nltk drawing function, just to be sure\n",
    "    if hasattr(Tree, '_repr_png_'):\n",
    "        delattr(Tree, '_repr_png_')"
   ]
  },
  {
   "cell_type": "markdown",
   "metadata": {
    "deletable": true,
    "editable": true
   },
   "source": [
    "### Grammar\n",
    "\n",
    "Yet again, we are going to work with our toy grammar from last time."
   ]
  },
  {
   "cell_type": "code",
   "execution_count": 2,
   "metadata": {
    "collapsed": true,
    "deletable": true,
    "editable": true
   },
   "outputs": [],
   "source": [
    "toy_grammar = nltk.CFG.fromstring(\"\"\"\n",
    "S -> NP VP\n",
    "NP -> Pronoun | ProperNoun | Det Nominal\n",
    "Nominal -> Nominal Noun\n",
    "Nominal -> Noun\n",
    "VP -> Verb | Verb PP | Verb NP | Verb NP PP | Verb NP NP | Verb NP NP PP\n",
    "PP -> Preposition NP\n",
    "Pronoun -> 'he' | 'she' | 'him' | 'her'\n",
    "ProperNoun -> 'John' | 'Mary' | 'Fido'\n",
    "Det -> 'a' | 'an' | 'the'\n",
    "Noun -> 'flower' | 'bone' | 'necklace' | 'dream' | 'hole' | 'café' | 'house' | 'bed'\n",
    "Verb -> 'loves' | 'gives' | 'gave' | 'sleeps' | 'digs' | 'dag' | 'ate'\n",
    "Preposition -> 'in' | 'on' | 'behind'\n",
    "\"\"\")\n",
    "\n",
    "toy_parser = nltk.ChartParser(toy_grammar)"
   ]
  },
  {
   "cell_type": "markdown",
   "metadata": {
    "deletable": true,
    "editable": true
   },
   "source": [
    "### 1. CNF $-$ unit productions\n",
    "\n",
    "As you saw last time, NLTK can only convert parse trees to the Chomsky Normal Forms, not grammars. In the first two exercises, we are going to rectify this omission."
   ]
  },
  {
   "cell_type": "markdown",
   "metadata": {
    "deletable": true,
    "editable": true
   },
   "source": [
    "#### 1.1 Enumerate all unit productions in a grammar\n",
    "\n",
    "As a warm-up exercise, write a function that\n",
    "- takes a grammar as its argument\n",
    "- returns all unit production rules from it ...\n",
    "- ... as a generator (i.e. returns an iterator, not a `list`)\n",
    "\n",
    "Note that \"lexicon\" rules (where the right hand side is a single **terminal**) are not considered unit productions. A unit production is a rule of the form **nonterminal$\\rightarrow$nonterminal**, such as `NP`$\\rightarrow$`ProperNoun`.\n",
    "\n",
    "The [API you will have to use](http://www.nltk.org/api/nltk.html#module-nltk.grammar):\n",
    "1. The productions of a grammar can be listed with its [`productions()`](http://www.nltk.org/api/nltk.html#nltk.grammar.CFG.productions) method\n",
    "1. Note that `productions()` returns the actual production list -- **do not modify it in place**, if you want to keep the grammar intact!\n",
    "1. Each returned item is a [`Production`](http://www.nltk.org/api/nltk.html#nltk.grammar.Production), which consists of\n",
    "  - a left hand side (`lhs()`): a [`Nonterminal`](http://www.nltk.org/api/nltk.html#nltk.grammar.Nonterminal)\n",
    "  - a right hand side (`rhs()`): a tuple of `Nonterminal`s and terminals (strings)\n",
    "1. Generally, in the `nlkt.grammar` API, nonterminals are `Nonterminal`s and terminals are strings\n",
    "1. It is also possible to call `productions()` with the `lhs` argument to \"search\" for rules that have the specified nonterminal on their left hand side. However, keep in mind that you have to give it a `Nonterminal` object for the reason given above."
   ]
  },
  {
   "cell_type": "code",
   "execution_count": 3,
   "metadata": {
    "collapsed": false,
    "deletable": true,
    "editable": true
   },
   "outputs": [],
   "source": [
    "def unit_productions(grammar):\n",
    "    for p in grammar.productions():\n",
    "        if len(p.rhs()) == 1 and isinstance(p.rhs()[0], Nonterminal):\n",
    "            yield p\n",
    "\n",
    "assert len(list(unit_productions(toy_grammar))) == 4"
   ]
  },
  {
   "cell_type": "markdown",
   "metadata": {
    "deletable": true,
    "editable": true
   },
   "source": [
    "#### 1.2 Re-implement `collapse_unary`\n",
    "\n",
    "`nltk.tree.Tree` has the [`collapse_unary`](http://www.nltk.org/api/nltk.html#nltk.tree.Tree.collapse_unary) function, which eliminates unit productions in parse trees. Implement a similar function that takes a grammar instead, and transforms it the same way. The function should return a **new grammar**; keeping the original grammar intact will make testing much easier.\n",
    "\n",
    "As the first exercise, implement the algorithm as we learned during [the lecture](../09_Syntax/09_Syntax_lecture_1.pdf) (feel free to run through the algorithm again $-$ it starts on page 35 / slide 115). As a reminder, when you find a unit production rule, e.g. `NP`$\\rightarrow$`ProperNoun`, you\n",
    "- first delete that rule\n",
    "- \"pull up\" the right hand side (`ProperNoun`) in place of the left hand side (`NP`) into each rule where the LHS occurs on the right, e.g. given `S`$\\rightarrow$`NP VP` you should also create the new rule `S`$\\rightarrow$`ProperNoun VP`.\n",
    "\n",
    "You can use the sentence _John gave Mary a flower in the café_ to test your algorithm. However, do test you algorithm with other sentences as well.\n",
    "\n",
    "**Note**:\n",
    "\n",
    "1. You can create a new grammar with the constructor [`nltk.grammar.CFG(start, productions)`](http://www.nltk.org/api/nltk.html#nltk.grammar.CFG).\n",
    "1. Your function should probably call `unit_productions()` first to see which rules it needs to handle.\n",
    "1. It might also be a good idea to get rid of the unit production rules one-by-one (just like in the lecture slides), instead of trying to handle all at the same time.\n",
    "1. It is easiest if you just work with the production list and forget about the `CFG` object. You can create one to encapsulate your productions in the `return` statement.\n",
    "1. Don't forget that a rule can contain a symbol more than once; see `VP` $\\rightarrow$ `Verb NP NP`. When replacing `NP` with `ProperNoun`, you should end up with 4 versions of this rule:\n",
    "    - `VP` $\\rightarrow$ `Verb NP NP`\n",
    "    - `VP` $\\rightarrow$ `Verb ProperNoun NP`\n",
    "    - `VP` $\\rightarrow$ `Verb NP ProperNoun`\n",
    "    - `VP` $\\rightarrow$ `Verb ProperNoun ProperNoun`    \n",
    "1. You can use the two helper methods provided below to deal with this latter problem."
   ]
  },
  {
   "cell_type": "code",
   "execution_count": 4,
   "metadata": {
    "collapsed": false,
    "deletable": true,
    "editable": true
   },
   "outputs": [],
   "source": [
    "from itertools import chain, combinations\n",
    "\n",
    "from nltk.grammar import Production, CFG\n",
    "\n",
    "def rhs_indices(rhs, nt):\n",
    "    \"\"\"Returns the positions the nonterminal nt occurs in rhs.\"\"\"\n",
    "    indices = []\n",
    "    for index, symbol in enumerate(rhs):\n",
    "        if symbol == nt:\n",
    "            indices.append(index)\n",
    "    return indices\n",
    "\n",
    "def powerset(iterable):\n",
    "    \"\"\"An itertools recipe.\"\"\"\n",
    "    \"powerset([1,2,3]) --> () (1,) (2,) (3,) (1,2) (1,3) (2,3) (1,2,3)\"\n",
    "    s = list(iterable)\n",
    "    return chain.from_iterable(combinations(s, r) for r in range(len(s)+1))\n",
    "\n",
    "def collapse_unary_vanilla(grammar):\n",
    "    units = unit_productions(grammar)\n",
    "    productions = grammar.productions()\n",
    "    for unit in units:\n",
    "        new_productions = []\n",
    "        for production in productions:\n",
    "            if production == unit:\n",
    "                continue\n",
    "            indices = rhs_indices(production.rhs(), unit.lhs())\n",
    "            for index_set in powerset(indices):\n",
    "                new_rhs = list(production.rhs())\n",
    "                for index in index_set:\n",
    "                    new_rhs[index] = unit.rhs()[0]\n",
    "                new_productions.append(Production(production.lhs(), tuple(new_rhs)))\n",
    "        productions = new_productions\n",
    "    return CFG(grammar.start(), productions)\n",
    "\n",
    "new_grammar = collapse_unary_vanilla(toy_grammar)\n",
    "assert len(new_grammar.productions()) == 66"
   ]
  },
  {
   "cell_type": "markdown",
   "metadata": {
    "deletable": true,
    "editable": true
   },
   "source": [
    "#### 1.3 Follow NLTK naming convention\n",
    "\n",
    "Note that while the algorithm behind `collapse_unary` is the same as what you have just implemented, `collapse_unary` also **renames** the nonterminals that were \"pulled up\". \n",
    "\n",
    "See how the `NP`$\\rightarrow$`ProperNoun` unit production rule was handled in the example below. Modify your algorithm so that it also renames the nonterminals in the same way."
   ]
  },
  {
   "cell_type": "code",
   "execution_count": 5,
   "metadata": {
    "collapsed": false,
    "deletable": true,
    "editable": true
   },
   "outputs": [
    {
     "data": {
      "image/png": "[encoded data removed]",
      "text/plain": [
       "Tree('S', [Tree('NP', [Tree('ProperNoun', ['John'])]), Tree('VP', [Tree('Verb', ['gave']), Tree('NP', [Tree('ProperNoun', ['Mary'])]), Tree('NP', [Tree('Det', ['a']), Tree('Nominal', [Tree('Noun', ['flower'])])]), Tree('PP', [Tree('Preposition', ['in']), Tree('NP', [Tree('Det', ['the']), Tree('Nominal', [Tree('Noun', ['café'])])])])])])"
      ]
     },
     "metadata": {},
     "output_type": "display_data"
    },
    {
     "data": {
      "image/png": "[encoded data removed]",
      "text/plain": [
       "Tree('S', [Tree('NP+ProperNoun', ['John']), Tree('VP', [Tree('Verb', ['gave']), Tree('NP+ProperNoun', ['Mary']), Tree('NP', [Tree('Det', ['a']), Tree('Nominal+Noun', ['flower'])]), Tree('PP', [Tree('Preposition', ['in']), Tree('NP', [Tree('Det', ['the']), Tree('Nominal+Noun', ['café'])])])])])"
      ]
     },
     "metadata": {},
     "output_type": "display_data"
    }
   ],
   "source": [
    "# Example call to tree.collapse_unary() to see how the names of nonterminals change\n",
    "for tree in toy_parser.parse('John gave Mary a flower in the café'.split()):\n",
    "    display(tree)\n",
    "    tree.collapse_unary(collapsePOS=True)\n",
    "    display(tree)"
   ]
  },
  {
   "cell_type": "code",
   "execution_count": null,
   "metadata": {
    "collapsed": false,
    "deletable": true,
    "editable": true
   },
   "outputs": [],
   "source": [
    "def collapse_unary(grammar):\n",
    "    # Your solution here\n",
    "    pass"
   ]
  },
  {
   "cell_type": "markdown",
   "metadata": {
    "deletable": true,
    "editable": true
   },
   "source": [
    "### 2 CNF $-$ too long RHS\n",
    "\n",
    "Continuing the work we started in exercise 1, we now target rules whose right hand side is too long $-$ i.e. it contains more than two symbols."
   ]
  },
  {
   "cell_type": "markdown",
   "metadata": {
    "deletable": true,
    "editable": true
   },
   "source": [
    "#### 2.1 Enumerate all rules with too long RHS\n",
    "\n",
    "Again, as a warm-up exercise, write a function that\n",
    "- takes a grammar as its argument\n",
    "- returns rules with too long RHS ...\n",
    "- ... as a generator (i.e. returns an iterator, not a `list`)"
   ]
  },
  {
   "cell_type": "code",
   "execution_count": 6,
   "metadata": {
    "collapsed": false,
    "deletable": true,
    "editable": true
   },
   "outputs": [],
   "source": [
    "def too_long_rhs(grammar):\n",
    "    for p in grammar.productions():\n",
    "        if len(p.rhs()) > 2:\n",
    "            yield p\n",
    "\n",
    "assert len(list(too_long_rhs(toy_grammar))) == 3"
   ]
  },
  {
   "cell_type": "markdown",
   "metadata": {
    "deletable": true,
    "editable": true
   },
   "source": [
    "#### 2.2 Re-implement `chomsky_normal_form`\n",
    "\n",
    "`nltk.tree.Tree` has the [`chomsky_normal_form`](http://www.nltk.org/api/nltk.html#nltk.tree.Tree.chomsky_normal_form) function, which eliminates rules with too long RHS. Implement a similar function that takes a grammar instead, and transforms it the same way. The function should return a **new grammar**; keeping the original grammar intact will make testing much easier.\n",
    "\n",
    "As the first exercise, implement the algorithm as we learned during [the lecture](../09_Syntax/09_Syntax_lecture_1.pdf) (feel free to run through the algorithm again $-$ it starts on page 34 / slide 113). As a reminder, when you find such a rule, e.g. `VP` $\\rightarrow$ `Verb NP PP`, you\n",
    "- introduce a new nonterminal (e.g. `VP_`)\n",
    "- split the original rule into two:\n",
    "    - keep only the first symbol on the RHS and add the new nonterminal to it: `VP` $\\rightarrow$ `Verb VP_`\n",
    "    - add a new rule in which the new nonterminal generates the symbols it replaced: `VP_` $\\rightarrow$ `NP PP`\n",
    "\n",
    "Make sure that\n",
    "- the rule transformation is recursive, so that you can handle arbirarily long right hand sides (e.g. the rule `VP` $\\rightarrow$ `Verb NP NP PP`).\n",
    "- you come up with a naming scheme that ensures all new nonterminals have unique names. E.g. you cannot name the new intermediate nonterminal `VP_` for both `VP` $\\rightarrow$ `Verb NP NP` and `VP` $\\rightarrow$ `Verb NP PP`, because that would mix the derivation for the original two rules. One idea to avoid this is to maintain a count of how many new non-terminals you introduced and include it in the name, so you would end up with `VP_1`, `VP_2`, `NP_3`, etc."
   ]
  },
  {
   "cell_type": "code",
   "execution_count": 7,
   "metadata": {
    "collapsed": false,
    "deletable": true,
    "editable": true
   },
   "outputs": [],
   "source": [
    "def chomsky_normal_form_vanilla(grammar):\n",
    "    mod_rule = 0\n",
    "    new_productions = []\n",
    "    for rule in grammar.productions():\n",
    "        orig_lhs = rule.lhs().symbol()\n",
    "        while len(rule.rhs()) > 2:\n",
    "            mod_rule += 1\n",
    "            new_nt = Nonterminal('{}_{}'.format(orig_lhs, mod_rule))\n",
    "            new_productions.append(Production(rule.lhs(), (rule.rhs()[0], new_nt)))\n",
    "            rule = Production(new_nt, rule.rhs()[1:])\n",
    "        new_productions.append(rule)\n",
    "    return CFG(grammar.start(), new_productions)\n",
    "\n",
    "new_grammar = chomsky_normal_form_vanilla(toy_grammar)\n",
    "assert len(new_grammar.productions()) == 45"
   ]
  },
  {
   "cell_type": "markdown",
   "metadata": {
    "deletable": true,
    "editable": true
   },
   "source": [
    "#### 2.3 Follow NLTK naming convention\n",
    "\n",
    "Note that while the algorithm behind `chomsky_normal_form` is the same as what you have just implemented, the names of the new nonterminals follow a very specific pattern. \n",
    "\n",
    "See how the `VP` $\\rightarrow$ `Verb NP PP` rule was handled in the example below. Modify your algorithm so that it also renames the nonterminals in the same way."
   ]
  },
  {
   "cell_type": "code",
   "execution_count": 8,
   "metadata": {
    "collapsed": false,
    "deletable": true,
    "editable": true
   },
   "outputs": [
    {
     "data": {
      "image/png": "[encoded data removed]",
      "text/plain": [
       "Tree('S', [Tree('NP', [Tree('ProperNoun', ['John'])]), Tree('VP', [Tree('Verb', ['gave']), Tree('NP', [Tree('ProperNoun', ['Mary'])]), Tree('NP', [Tree('Det', ['a']), Tree('Nominal', [Tree('Noun', ['flower'])])]), Tree('PP', [Tree('Preposition', ['in']), Tree('NP', [Tree('Det', ['the']), Tree('Nominal', [Tree('Noun', ['café'])])])])])])"
      ]
     },
     "metadata": {},
     "output_type": "display_data"
    },
    {
     "data": {
      "image/png": "[encoded data removed]",
      "text/plain": [
       "Tree('S', [Tree('NP', [Tree('ProperNoun', ['John'])]), Tree('VP', [Tree('Verb', ['gave']), Tree('VP|<NP-NP-PP>', [Tree('NP', [Tree('ProperNoun', ['Mary'])]), Tree('VP|<NP-PP>', [Tree('NP', [Tree('Det', ['a']), Tree('Nominal', [Tree('Noun', ['flower'])])]), Tree('PP', [Tree('Preposition', ['in']), Tree('NP', [Tree('Det', ['the']), Tree('Nominal', [Tree('Noun', ['café'])])])])])])])])"
      ]
     },
     "metadata": {},
     "output_type": "display_data"
    }
   ],
   "source": [
    "# Example call to tree.collapse_unary() to see how the names of nonterminals change\n",
    "for tree in toy_parser.parse('John gave Mary a flower in the café'.split()):\n",
    "    display(tree)\n",
    "    tree.chomsky_normal_form()\n",
    "    display(tree)"
   ]
  },
  {
   "cell_type": "code",
   "execution_count": null,
   "metadata": {
    "collapsed": true,
    "deletable": true,
    "editable": true
   },
   "outputs": [],
   "source": [
    "def chomsky_normal_form(grammar):\n",
    "    # Your solution here\n",
    "    pass"
   ]
  },
  {
   "cell_type": "markdown",
   "metadata": {
    "deletable": true,
    "editable": true
   },
   "source": [
    "### 3. CKY\n",
    "\n",
    "Last time, we used NLTK's `ChartParser` to parse our grammar. In this exercise, we will replace it gradually with our own implementation of CKY."
   ]
  },
  {
   "cell_type": "markdown",
   "metadata": {
    "deletable": true,
    "editable": true
   },
   "source": [
    "#### 3.1 The parser class\n",
    "\n",
    "First, create the `CKYParser` class. Imitate the interface of `ChartParser`. You don't need to look up the API: support only the functions we used thus far."
   ]
  },
  {
   "cell_type": "code",
   "execution_count": 9,
   "metadata": {
    "collapsed": true,
    "deletable": true,
    "editable": true
   },
   "outputs": [],
   "source": [
    "class CKYParser:\n",
    "    def __init__(self, grammar):\n",
    "        self.grammar = grammar\n",
    "        \n",
    "    def parse(self, sentence):\n",
    "        pass"
   ]
  },
  {
   "cell_type": "markdown",
   "metadata": {
    "deletable": true,
    "editable": true
   },
   "source": [
    "#### 3.2 Implement `parse()`\n",
    "\n",
    "Implement the `parse()` method. You don't need to worry about the backpointers for now; just treat the cells of the matrix as a piece of paper and write strings to them. The functions should just return `True` if the sentence is grammatical and `False` if it isn't.\n",
    "\n",
    "Hints:\n",
    "- the easiest format for the matrix is probably a 2D `numpy` array with a `list` in each cell (we might have multiple candidates in a cell). Use `dtype=object`. Don't forget to initialize it.\n",
    "- the `display()` method works on arrays and is a useful tool for debugging\n",
    "- in 2D `numpy` arrays, rows are numbered from top to bottom. That takes care of the cell indexing part, because a cell represents the words `sentence[row:col+1]`.\n",
    "- Implement just the main diagonal (lexical rules) first.\n",
    "- Use the `grammar.productions()` function to get the list of production rules. To see how to use it, refer to\n",
    "  - the `generate_sample` function above\n",
    "  - `help(grammar.productions)`\n",
    "- Note that in the production rules returned by `grammar.productions()`, terminals will be strings, and nonterminals instances of the `Nonterminal` object. You can get the actual symbol out of the latter with the `symbol()` method.\n",
    "\n",
    "Use the CNF grammar below for development and the example sentence for testing."
   ]
  },
  {
   "cell_type": "code",
   "execution_count": 10,
   "metadata": {
    "collapsed": true,
    "deletable": true,
    "editable": true
   },
   "outputs": [],
   "source": [
    "import numpy\n",
    "import itertools\n",
    "\n",
    "class CKYParser:\n",
    "    def __init__(self, grammar):\n",
    "        self.grammar = grammar\n",
    "        \n",
    "    def parse(self, sentence):\n",
    "        lens = len(sentence)\n",
    "        matrix = numpy.empty((lens, lens), dtype=object)\n",
    "        for row, col in itertools.product(range(lens), repeat=2):\n",
    "            matrix[row, col] = []\n",
    "        \n",
    "        for col in range(matrix.shape[1]):\n",
    "            for row in range(col, -1, -1):\n",
    "                if col == row:\n",
    "                    for prod in self.grammar.productions(rhs=sentence[col]):\n",
    "                        matrix[row, col].append(prod.lhs())\n",
    "                else:\n",
    "                    scope = col - row + 1\n",
    "                    for left in range(1, scope):\n",
    "                        down = scope - left\n",
    "                        for left_nt in matrix[row, col-left]:\n",
    "                            for prod in self.grammar.productions(rhs=left_nt):\n",
    "                                for right_nt in matrix[row + down, col]:\n",
    "                                    if right_nt == prod.rhs()[1]:\n",
    "                                        matrix[row, col].append(prod.lhs())\n",
    "        return 'S' in [nt.symbol() for nt in matrix[0, lens - 1]]"
   ]
  },
  {
   "cell_type": "code",
   "execution_count": 11,
   "metadata": {
    "collapsed": false,
    "deletable": true,
    "editable": true
   },
   "outputs": [
    {
     "name": "stdout",
     "output_type": "stream",
     "text": [
      "Sentence is grammatical: True\n"
     ]
    }
   ],
   "source": [
    "grammar = nltk.CFG.fromstring(\"\"\"\n",
    "S -> NP VP | ProperNoun VP | NP Verb | ProperNoun Verb\n",
    "NP -> Det Nominal | Det Noun\n",
    "Nominal -> Nominal Noun | Noun Noun\n",
    "VP -> Verb NP | Verb ProperNoun\n",
    "Det -> 'the'\n",
    "Noun -> 'dog' | 'bit'\n",
    "ProperNoun -> 'John'\n",
    "Verb -> 'bit'\n",
    "\"\"\")\n",
    "\n",
    "parser = CKYParser(grammar)\n",
    "print('Sentence is grammatical:', parser.parse('the dog bit John'.split()))"
   ]
  },
  {
   "cell_type": "markdown",
   "metadata": {
    "deletable": true,
    "editable": true
   },
   "source": [
    "#### 3.3 The full monty\n",
    "\n",
    "Modify `parse()` so that it returns the parse tree. In the original CKY algorithm, each nonterminal maintains backpointers to its children. Instead, we will build the `Tree` object directly (which is little more that a label and a list of backpointers, really).\n",
    "\n",
    "There are two things you should do here:\n",
    "1. When filling a cell: instead of adding the name of the nonterminal to the list in the cell, add a `Tree` with the name as label and the right children. The constructor's signature is `Tree(node, children)`, where the latter is a `list`.\n",
    "2. Change your method to be a _generator_: yield all `Tree`s from the top right cell whose label is `S`.\n",
    "\n",
    "Don't forget that `Tree.label()`s are strings, so if you want to look for them in `grammar.productions()`, enclose them into a `Nonterminal` object."
   ]
  },
  {
   "cell_type": "code",
   "execution_count": 12,
   "metadata": {
    "collapsed": false,
    "deletable": true,
    "editable": true
   },
   "outputs": [
    {
     "data": {
      "image/png": "[encoded data removed]",
      "text/plain": [
       "Tree('S', [Tree('NP', [Tree('Det', ['the']), Tree('Noun', ['dog'])]), Tree('VP', [Tree('Verb', ['bit']), Tree('ProperNoun', ['John'])])])"
      ]
     },
     "metadata": {},
     "output_type": "display_data"
    }
   ],
   "source": [
    "class CKYParser:\n",
    "    def __init__(self, grammar):\n",
    "        self.grammar = grammar\n",
    "        \n",
    "    def parse(self, sentence):\n",
    "        lens = len(sentence)\n",
    "        matrix = numpy.empty((lens, lens), dtype=object)\n",
    "        for row, col in itertools.product(range(lens), repeat=2):\n",
    "            matrix[row, col] = []\n",
    "        \n",
    "        for col in range(matrix.shape[1]):\n",
    "            for row in range(col, -1, -1):\n",
    "                if col == row:\n",
    "                    for prod in self.grammar.productions(rhs=sentence[col]):\n",
    "                        matrix[row, col].append(Tree(prod.lhs().symbol(), [sentence[col]]))\n",
    "                else:\n",
    "                    scope = col - row + 1\n",
    "                    for left in range(1, scope):\n",
    "                        down = scope - left\n",
    "                        for left_nt in matrix[row, col-left]:\n",
    "                            for prod in self.grammar.productions(rhs=Nonterminal(left_nt.label())):\n",
    "                                for right_nt in matrix[row + down, col]:\n",
    "                                    if right_nt.label() == prod.rhs()[1].symbol():\n",
    "                                        matrix[row, col].append(Tree(prod.lhs().symbol(), [left_nt, right_nt]))\n",
    "        for tree in matrix[0, lens - 1]:\n",
    "            if tree.label() == 'S':\n",
    "                yield tree\n",
    "\n",
    "parser = CKYParser(grammar)\n",
    "for tree in parser.parse('the dog bit John'.split()):\n",
    "    display(tree)"
   ]
  },
  {
   "cell_type": "markdown",
   "metadata": {
    "deletable": true,
    "editable": true
   },
   "source": [
    "#### 3.4 Testing\n",
    "\n",
    "Test your algorithm on the arithmetic example. Make sure it returns the same trees as `ChartParser`."
   ]
  }
 ],
 "metadata": {
  "kernelspec": {
   "display_name": "Python 3",
   "language": "python",
   "name": "python3"
  },
  "language_info": {
   "codemirror_mode": {
    "name": "ipython",
    "version": 3
   },
   "file_extension": ".py",
   "mimetype": "text/x-python",
   "name": "python",
   "nbconvert_exporter": "python",
   "pygments_lexer": "ipython3",
   "version": "3.5.2"
  }
 },
 "nbformat": 4,
 "nbformat_minor": 2
}
